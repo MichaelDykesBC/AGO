{
 "cells": [
  {
   "cell_type": "markdown",
   "metadata": {},
   "source": [
    "## BCMapHub Service URL Updater - June 7th 2021\n",
    "### DataBC has been working to improve web service performance and stability for public data access web services available to ArcGIS Online via BCs Map Hub. Historically we have published a single large service with over 700 layers. The single service will be replaced by multiple smaller services published by schema. Duplicate Map Image Layer items will also be deprecated in favour of the corresponding authoritative Feature Layer items. We are now ready to implement the changes.\n",
    "### https://www2.gov.bc.ca/assets/gov/data/geobc/bcs_map_hub_-_change_notice_and_additional_20210520_1.pdf\n",
    "#### Michael Dykes (Michael.Dykes@gov.bc.ca)"
   ]
  },
  {
   "cell_type": "code",
   "execution_count": null,
   "metadata": {},
   "outputs": [],
   "source": [
    "# Import required libraries/modules\n",
    "import json,requests,re\n",
    "from ipywidgets import *\n",
    "from difflib import SequenceMatcher\n",
    "from arcgis.gis import GIS\n",
    "from arcgis.mapping import WebMap\n",
    "\n",
    "# Create connection to AGO \"home\" works for AGO Notebooks, otherwise need to change to something like \"gis = GIS('https://governmentofbc.maps.arcgis.com/',username,password)\"\n",
    "gis = GIS(\"home\")"
   ]
  },
  {
   "cell_type": "code",
   "execution_count": null,
   "metadata": {},
   "outputs": [],
   "source": [
    "# Search AGO for Web Maps owned by you, max 500 items (if you need more then change this)\n",
    "for item in gis.content.search(query=\"* AND \\  owner:\" + gis.users.me.username, item_type=\"Web Map\", max_items=500):\n",
    "    # Open item as Web Map Object\n",
    "    WebMap_Object = WebMap(item)\n",
    "    # Iterate through Web Map layers\n",
    "    WebMapLayerIDs = [x[\"id\"] for x in WebMap_Object.layers]\n",
    "    for layer in WebMap_Object.layers:\n",
    "        # Check if you can access URL key from layer JSON (sometimes you can't)\n",
    "        if 'url' in layer:\n",
    "            # Check if layer has the old service layer url\n",
    "            if \"mpcm/bcgwpub/MapServer\" in layer['url']:\n",
    "                # Sometimes itemIDs don't exist in a layer JSON, I belive this happens when you have multiple copies of the same feature layer in the same map? Updating the url of one will hopefully update the other?\n",
    "                if 'itemId' in layer:\n",
    "                    # Get AGO item from itemID to then go find the updated url\n",
    "                    Newitem = gis.content.get(layer['itemId'])\n",
    "                    # Ensure the url has been updated before updating it in your Web Map\n",
    "                    if \"mpcm/bcgwpub/MapServer\" not in Newitem.url:\n",
    "                        # Grab the new url\n",
    "                        newURL = Newitem.url\n",
    "                        # Replace the old url with the new in the JSON\n",
    "                        layer['url'] = newURL\n",
    "                        # Use update function to finalize the change\n",
    "                        WebMap_Object.update()\n",
    "                        print (\"Service URL Updated for \" + layer['title'] + \" Layer in \" + item.title + \" Web Map\")\n",
    "print(\"***Done***\")               "
   ]
  },
  {
   "cell_type": "code",
   "execution_count": null,
   "metadata": {},
   "outputs": [],
   "source": [
    "# Find any old web service urls that still exist (from copied layers in Web Maps, Web Mapping Applications, etc)\n",
    "ToUpdate_Dict = {}\n",
    "for item in gis.content.search(query=\"* AND \\  owner:\" + gis.users.me.username, max_items=1000):\n",
    "    if item.type != \"Code Attachment\":\n",
    "        item_data = item.get_data()\n",
    "        item_data_Str = str(item_data)\n",
    "        if \"mpcm/bcgwpub/MapServer\" in item_data_Str:\n",
    "            urllist = re.findall(\"'(https://(?:.*?))'\", item_data_Str)\n",
    "            for row in urllist:\n",
    "                if \"mpcm/bcgwpub/MapServer\" in row:\n",
    "                    if (item.title,item.type,item.id) in ToUpdate_Dict:\n",
    "                        ToUpdate_Dict[(item.title,item.type,item.id)].append(row)\n",
    "                    else:\n",
    "                        ToUpdate_Dict[(item.title,item.type,item.id)] = [row]\n",
    "                        \n",
    "if ToUpdate_Dict:\n",
    "    URL_List = []\n",
    "    for row in ToUpdate_Dict.values():\n",
    "        for x in row:\n",
    "            URL_List.append(x)\n",
    "\n",
    "    UniqueURL_List = list(set(URL_List))\n",
    "    print(\"Old Service URLs Found. Continue.\")\n",
    "else:\n",
    "    print(\"You got everything! No More 'mpcm/bcgwpub/MapServer' References in your AGO items.\")"
   ]
  },
  {
   "cell_type": "code",
   "execution_count": null,
   "metadata": {},
   "outputs": [],
   "source": [
    "# Check Old BCGW Web Service for Titles and Service URLs to Compare to the New BCGW Web Service\n",
    "RESTServer = r'https://maps.gov.bc.ca/arcgis/rest/services/mpcm/bcgwpub/MapServer/'\n",
    "response = requests.get(RESTServer + '?f=json')\n",
    "sitejson = response.json()\n",
    "\n",
    "UrlDict = {}\n",
    "for layer in sitejson['layers']:\n",
    "    REST_serviceURL = RESTServer + str(layer['id'])\n",
    "    if REST_serviceURL in UniqueURL_List:\n",
    "        UrlDict[layer['name']] = REST_serviceURL"
   ]
  },
  {
   "cell_type": "code",
   "execution_count": null,
   "metadata": {
    "scrolled": false
   },
   "outputs": [],
   "source": [
    "# Build Dictionary of New BCGW Web Service URLs and Titles\n",
    "NewREST_serviceURL = r'https://maps.gov.bc.ca/arcgis/rest/services/whse?f=json'\n",
    "Newresponse = requests.get(NewREST_serviceURL)\n",
    "Newsitejson = Newresponse.json()\n",
    "\n",
    "whse_services_list = []\n",
    "for row in Newsitejson['services']:\n",
    "    whse_services_list.append(row['name'])\n",
    "\n",
    "UrlDict_New = {}\n",
    "for row in whse_services_list:\n",
    "    Sub_Resturl = r'https://maps.gov.bc.ca/arcgis/rest/services/' + row + '/MapServer/'\n",
    "    Sub_response = requests.get(Sub_Resturl + '?f=json')\n",
    "    Sub_sitejson = Sub_response.json()\n",
    "    for layer in Sub_sitejson['layers']:\n",
    "        UrlDict_New[layer['name']] = Sub_Resturl + str(layer['id'])"
   ]
  },
  {
   "cell_type": "code",
   "execution_count": null,
   "metadata": {},
   "outputs": [],
   "source": [
    "# Sort out Suggestions for Updating the URL\n",
    "Suggestions_Dict = {}\n",
    "for k,v in UrlDict.items():\n",
    "    # If the Layer Titles Don't Match Exactly\n",
    "    if k not in UrlDict_New:\n",
    "        SimliarityList = []\n",
    "        StrInList = []\n",
    "        # Iterate through the New Web Service Layers\n",
    "        for k2 in UrlDict_New.keys():\n",
    "            # Check if the Old Title is a Substring of the New Title (Ex. Old is \"Otter Habitat\", New could be \"Otter Habitat - Conservation\")\n",
    "            if k in k2:\n",
    "                toappend = k,k2\n",
    "                StrInList.append(toappend)\n",
    "            # Use Sequence Matcher to get a Ratio of How Similar the Title Strings are.\n",
    "            Str_Similarity = SequenceMatcher(a=k,b=k2).ratio()\n",
    "            # Find only Strings that are 80% Similar\n",
    "            if Str_Similarity >= 0.8:\n",
    "                toappend2 = k,k2,Str_Similarity\n",
    "                SimliarityList.append(toappend2)\n",
    "        \n",
    "        # Deal with all Substring Matches Found, Add them to Suggestions Dictionary\n",
    "        if StrInList:\n",
    "            if len(StrInList) > 1:\n",
    "                if (k,v) in Suggestions_Dict:\n",
    "                    Suggestions_Dict[(k,v)].extend(StrInList)\n",
    "                else:\n",
    "                    Suggestions_Dict[(k,v)] = StrInList\n",
    "            else:\n",
    "                if (k,v) in Suggestions_Dict:\n",
    "                    Suggestions_Dict[(k,v)].append(StrInList[0])\n",
    "                else:\n",
    "                    Suggestions_Dict[(k,v)] = [StrInList[0]]\n",
    "           \n",
    "        # Deal with all >80% String Matches Found, Add them to Suggestions Dictionary\n",
    "        elif SimliarityList:\n",
    "            if len(SimliarityList) > 1:\n",
    "                if (k,v) in Suggestions_Dict:\n",
    "                    Suggestions_Dict[(k,v)].extend(sorted(SimliarityList,key=lambda x : float(x[2]),reverse=True))\n",
    "                else:\n",
    "                    Suggestions_Dict[(k,v)] = sorted(SimliarityList,key=lambda x : float(x[2]),reverse=True)\n",
    "            else:\n",
    "                if (k,v) in Suggestions_Dict:\n",
    "                    Suggestions_Dict[(k,v)].append[SimliarityList[0]]\n",
    "                else:\n",
    "                    Suggestions_Dict[(k,v)] = [SimliarityList[0]]\n",
    "                \n",
    "        # No Match - *Bad            \n",
    "        else:\n",
    "            Suggestions_Dict[(k,v)] = \"No Match Found\" \n",
    "            \n",
    "    # Perfect Match        \n",
    "    else:\n",
    "        Suggestions_Dict[(k,v)] = UrlDict_New[k]"
   ]
  }
 ],
 "metadata": {
  "esriNotebookRuntime": {
   "notebookRuntimeName": "ArcGIS Notebook Python 3 Standard",
   "notebookRuntimeVersion": "5.0"
  },
  "kernelspec": {
   "display_name": "Python 3",
   "language": "python",
   "name": "python3"
  },
  "language_info": {
   "codemirror_mode": {
    "name": "ipython",
    "version": 3
   },
   "file_extension": ".py",
   "mimetype": "text/x-python",
   "name": "python",
   "nbconvert_exporter": "python",
   "pygments_lexer": "ipython3",
   "version": "3.7.9"
  }
 },
 "nbformat": 4,
 "nbformat_minor": 2
}
