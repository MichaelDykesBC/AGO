{
 "cells": [
  {
   "cell_type": "markdown",
   "metadata": {},
   "source": [
    "## Welcome to your notebook.\n"
   ]
  },
  {
   "cell_type": "code",
   "execution_count": null,
   "metadata": {},
   "outputs": [],
   "source": [
    "# Import required libraries/modules\n",
    "import requests\n",
    "import ipywidgets as widgets\n",
    "from arcgis.gis import GIS"
   ]
  },
  {
   "cell_type": "code",
   "execution_count": null,
   "metadata": {},
   "outputs": [],
   "source": [
    "# Create connection and generate token for use in REST Api\n",
    "gis = GIS('Home')\n",
    "token = gis._con.token"
   ]
  },
  {
   "cell_type": "code",
   "execution_count": null,
   "metadata": {},
   "outputs": [],
   "source": [
    "# GROUP CHOOSER\n",
    "# Let user pick a group, then use that group to filter layer lists below"
   ]
  },
  {
   "cell_type": "code",
   "execution_count": null,
   "metadata": {},
   "outputs": [],
   "source": [
    "# Search your content for Feature Layers (including Feature Layer Views) to select for updating and sourcing\n",
    "# *** To do: Pull from GROUP instead of OWNER *** TRY TO FILTER OUT VIEW LAYER in View Layer List (ex. Search for \"Created from: RegionalDistrict_20210603, Feature Layer\")\n",
    "item_search = {item.title:item.id for item in gis.content.search(query=\"* AND \\  owner:\" + gis.users.me.username, item_type=\"Feature Layer\", max_items=500)}\n",
    "FeatureLayers_list = sorted([x for x in item_search.keys()])\n",
    "FeatureLayers_list.insert(0, \"\")\n",
    "\n",
    "ViewLayer_Box = widgets.Dropdown(placeholder='Choose Item Type',options=FeatureLayers_list,value=None,description='View Layer',ensure_option=True)\n",
    "SourceLayer_Box = widgets.Dropdown(placeholder='Choose Item Type',options=FeatureLayers_list,value=None,description='Source Layer',ensure_option=True)\n",
    "SearchBox = widgets.VBox([ViewLayer_Box,SourceLayer_Box])\n",
    "display(SearchBox)"
   ]
  },
  {
   "cell_type": "code",
   "execution_count": null,
   "metadata": {},
   "outputs": [],
   "source": [
    "# Variables for which View to update, and which source feature layer to update it with, if blank message to no longer proceed will print\n",
    "if not ViewLayer_Box.value:\n",
    "    print(\"No View Layer Selected, Do Not Continue\")\n",
    "else:\n",
    "    ViewLayer_Name = ViewLayer_Box.value\n",
    "    print(ViewLayer_Name)\n",
    "    \n",
    "if not SourceLayer_Box.value:\n",
    "    print(\"No Source Layer Selected, Do Not Continue\")\n",
    "else:\n",
    "    SourceLayer_Name = SourceLayer_Box.value\n",
    "    print(SourceLayer_Name)"
   ]
  },
  {
   "cell_type": "code",
   "execution_count": null,
   "metadata": {},
   "outputs": [],
   "source": [
    "# Parameters to perform REST function (Delete From Definition), request must be POST\n",
    "Delete_Url = r\"https://services6.arcgis.com/ubm4tcTYICKBpist/arcgis/rest/admin/services/%s/FeatureServer/deleteFromDefinition?token=\" % (ViewLayer_Name) + str(token)\n",
    "Delete_params = {'deleteFromDefinition':'{\"layers\": [{\"id\":0}]}'}"
   ]
  },
  {
   "cell_type": "code",
   "execution_count": null,
   "metadata": {},
   "outputs": [],
   "source": [
    "# Run POST request to delete from service defintion and check status, 200 = good\n",
    "Delete_response = requests.post(Delete_Url,params=Delete_params)\n",
    "Delete_status = Delete_response.status_code\n",
    "print(Delete_status)"
   ]
  },
  {
   "cell_type": "code",
   "execution_count": null,
   "metadata": {},
   "outputs": [],
   "source": [
    "# Parameters to perform REST function (Add to Definition), request must be POST\n",
    "SourceLayer_ID = item_search[SourceLayer_Name]\n",
    "print(SourceLayer_ID)\n",
    "\n",
    "Add_Url = r\"https://services6.arcgis.com/ubm4tcTYICKBpist/arcgis/rest/admin/services/%s/FeatureServer/addToDefinition?token=\" % (ViewLayer_Name) + str(token)\n",
    "Add_params = {'addToDefinition':\"\"\"{\n",
    "                                \"layers\" : [\n",
    "                                    {\n",
    "                                      \"adminLayerInfo\" : {\n",
    "                                        \"geometryField\" : {\"name\" : \"Shape\"}, \n",
    "                                        \"xssTrustedFields\" : \"\", \n",
    "                                        \"viewLayerDefinition\" : {\n",
    "                                          \"sourceServiceName\" : \"%s\", \n",
    "                                          \"sourceLayerId\" : 0, \n",
    "                                          \"sourceLayerFields\" : \"*\"\n",
    "                                        }\n",
    "                                      }, \n",
    "                                      \"id\" : 0, \n",
    "                                      \"name\" : \"%s\", \n",
    "                                      \"type\" : \"Feature Layer\", \n",
    "                                      \"serviceItemID\": \"%s\",\n",
    "                                      \"isView\" : true, \n",
    "                                      \"isUpdatableView\" : true, \n",
    "                                      \"sourceSchemaChangesAllowed\" : true, \n",
    "                                      \"displayField\" : \"\", \n",
    "                                      \"description\" : \"\", \n",
    "                                      \"copyrightText\" : \"\", \n",
    "                                      \"defaultVisibility\" : true\n",
    "                                      }]\n",
    "                                }\n",
    "                                \"\"\" % (SourceLayer_Name,SourceLayer_Name,SourceLayer_ID)}\n",
    "                        "
   ]
  },
  {
   "cell_type": "code",
   "execution_count": null,
   "metadata": {},
   "outputs": [],
   "source": [
    "# Run POST request to add to service defintion and check status, 200 = good\n",
    "Add_response = requests.post(Add_Url,params=Add_params)\n",
    "Add_status = Add_response.status_code\n",
    "print(Add_status)"
   ]
  },
  {
   "cell_type": "code",
   "execution_count": null,
   "metadata": {},
   "outputs": [],
   "source": [
    "# ***IN PROGRESS***\n",
    "# Optional, reapply layer properties that were previously set on View Layer\n",
    "Update_URL = r\"https://services6.arcgis.com/ubm4tcTYICKBpist/arcgis/rest/admin/services/%s/FeatureServer/0?token=\" % (ViewLayer_Name) + str(token)"
   ]
  }
 ],
 "metadata": {
  "esriNotebookRuntime": {
   "notebookRuntimeName": "ArcGIS Notebook Python 3 Standard",
   "notebookRuntimeVersion": "5.0"
  },
  "kernelspec": {
   "display_name": "Python 3",
   "language": "python",
   "name": "python3"
  },
  "language_info": {
   "codemirror_mode": {
    "name": "ipython",
    "version": 3
   },
   "file_extension": ".py",
   "mimetype": "text/x-python",
   "name": "python",
   "nbconvert_exporter": "python",
   "pygments_lexer": "ipython3",
   "version": "3.7.9"
  }
 },
 "nbformat": 4,
 "nbformat_minor": 2
}
