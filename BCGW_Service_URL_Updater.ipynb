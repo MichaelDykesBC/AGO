{
 "cells": [
  {
   "cell_type": "markdown",
   "metadata": {},
   "source": [
    "# BCGW Service URL Updater - October 20th 2021\n",
    "DataBC has been working to improve web service performance and stability for public data access web services available to ArcGIS Online via BCs Map Hub. Historically we have published a single large service with over 700 layers. The single service will be replaced by multiple smaller services published by schema. Duplicate Map Image Layer items will also be deprecated in favour of the corresponding authoritative Feature Layer items. We are now ready to implement the changes.\n",
    "\n",
    "#### Michael Dykes (Michael.Dykes@gov.bc.ca)     ***Please contact me incase of bugs/errors/issues"
   ]
  },
  {
   "cell_type": "markdown",
   "metadata": {
    "heading_collapsed": true
   },
   "source": [
    "## Instructions"
   ]
  },
  {
   "cell_type": "markdown",
   "metadata": {
    "heading_collapsed": true,
    "hidden": true
   },
   "source": [
    "#### 1. To start select \"Restart & Run All\" from the Kernel menu. This will run all the code in the notebook and the GUI interface will appear at the bottom."
   ]
  },
  {
   "cell_type": "markdown",
   "metadata": {
    "hidden": true
   },
   "source": [
    "![text](https://github.com/MichaelDykesBC/AGO/blob/master/ChangeOver_Instruct1.PNG?raw=true)"
   ]
  },
  {
   "cell_type": "markdown",
   "metadata": {
    "heading_collapsed": true,
    "hidden": true
   },
   "source": [
    "#### 2. While the code is running the tag next to the code should have a \"*\" symbol indicating that the code is running. On successful completion this \"*\" should change to a number."
   ]
  },
  {
   "cell_type": "markdown",
   "metadata": {
    "hidden": true
   },
   "source": [
    "![text](https://github.com/MichaelDykesBC/AGO/blob/master/ChangeOver_Instruct2.PNG?raw=true)"
   ]
  },
  {
   "cell_type": "markdown",
   "metadata": {
    "heading_collapsed": true,
    "hidden": true
   },
   "source": [
    "#### 3. The item/group selection pane will default to content you own (only \"Web Map\",\"Web Mapping Application\",\"StoryMap\",\"Dashboard\" items are displayed). You can select a group from the dropdown to load items from that particular group. Hitting the \"All My Content\" button will return to a list of only items you own."
   ]
  },
  {
   "cell_type": "markdown",
   "metadata": {
    "hidden": true
   },
   "source": [
    "![text](https://github.com/MichaelDykesBC/AGO/blob/master/ChangeOver_Instruct3.PNG?raw=true)"
   ]
  },
  {
   "cell_type": "markdown",
   "metadata": {
    "heading_collapsed": true,
    "hidden": true
   },
   "source": [
    "#### 4. On selection of an item, the item pane should update with information about that item (Title, Type, Owner, Creation Date, Modified Date) with links to the item page and the option to open the item in its viewer. Click the \"Check Item\" button to perform a search of an item's JSON content for old BCGW Service URLs for updating."
   ]
  },
  {
   "cell_type": "markdown",
   "metadata": {
    "hidden": true
   },
   "source": [
    "![text](https://github.com/MichaelDykesBC/AGO/blob/master/ChangeOver_Instruct4.PNG?raw=true)"
   ]
  },
  {
   "cell_type": "markdown",
   "metadata": {
    "heading_collapsed": true,
    "hidden": true
   },
   "source": [
    "#### 5. On completion of the BCGW Service URL check you will either get a message that no updates are needed or a list of layers that need updating. In the layer list you will see the layer name, the existing BCGW URL value, the suggested value from the DataBC lookup table, or have the option to override the suggested value with your own text entry (if you leave it blank it will accept the suggested value from DataBC)."
   ]
  },
  {
   "cell_type": "markdown",
   "metadata": {
    "hidden": true
   },
   "source": [
    "![text](https://github.com/MichaelDykesBC/AGO/blob/master/ChangeOver_Instruct8.PNG?raw=true)\n",
    "![text](https://github.com/MichaelDykesBC/AGO/blob/master/ChangeOver_Instruct5.PNG?raw=true)"
   ]
  },
  {
   "cell_type": "markdown",
   "metadata": {
    "heading_collapsed": true,
    "hidden": true
   },
   "source": [
    "#### 6. To update the layers click the \"Update All URLs\" button on the bottom of the list. If the item is updated successfully you will get a message indicating this. If it fails you will also get an indication (probably a bunch of Python errors)."
   ]
  },
  {
   "cell_type": "markdown",
   "metadata": {
    "hidden": true
   },
   "source": [
    "![text](https://github.com/MichaelDykesBC/AGO/blob/master/ChangeOver_Instruct6.PNG?raw=true)\n",
    "![text](https://github.com/MichaelDykesBC/AGO/blob/master/ChangeOver_Instruct7.PNG?raw=true)"
   ]
  },
  {
   "cell_type": "markdown",
   "metadata": {
    "heading_collapsed": true,
    "hidden": true
   },
   "source": [
    "#### 7. Incase you need to restore the original JSON, you can click the \"Restore Item JSON\" button, which will restore the JSON from a file located in your AGO Notebook File Directory (not your AGO Content). You can also download the backup JSON files from here (they are named by itemID)."
   ]
  },
  {
   "cell_type": "markdown",
   "metadata": {
    "hidden": true
   },
   "source": [
    "![text](https://github.com/MichaelDykesBC/AGO/blob/master/ChangeOver_Instruct9.PNG?raw=true)\n",
    "![text](https://github.com/MichaelDykesBC/AGO/blob/master/ChangeOver_Instruct10.PNG?raw=true)\n",
    "![text](https://github.com/MichaelDykesBC/AGO/blob/master/ChangeOver_Instruct11.PNG?raw=true)"
   ]
  },
  {
   "cell_type": "markdown",
   "metadata": {
    "heading_collapsed": true
   },
   "source": [
    "## The Code"
   ]
  },
  {
   "cell_type": "markdown",
   "metadata": {
    "heading_collapsed": true,
    "hidden": true
   },
   "source": [
    "### 1. Import Required Libraries/Modules and ArcGIS Online Connection"
   ]
  },
  {
   "cell_type": "code",
   "execution_count": 1,
   "metadata": {
    "hidden": true
   },
   "outputs": [
    {
     "name": "stderr",
     "output_type": "stream",
     "text": [
      "/opt/conda/lib/python3.7/site-packages/arcgis/gis/__init__.py:430: UserWarning: You are logged on as michael.dykes_bcgov03 with an administrator role, proceed with caution.\n",
      "  self.users.me.username)\n"
     ]
    }
   ],
   "source": [
    "import os, getpass, json, time, base64, IPython, random\n",
    "from arcgis.gis import GIS\n",
    "from functools import reduce\n",
    "from operator import getitem\n",
    "import ipywidgets as widgets\n",
    "import pandas as pd\n",
    "\n",
    "gis = GIS('home')\n",
    "AGO_Max_Items = 5000"
   ]
  },
  {
   "cell_type": "markdown",
   "metadata": {
    "heading_collapsed": true,
    "hidden": true
   },
   "source": [
    "### 2. Set File Folder Structure for JSON Text File Backups"
   ]
  },
  {
   "cell_type": "code",
   "execution_count": 2,
   "metadata": {
    "hidden": true
   },
   "outputs": [],
   "source": [
    "#Folder structure in AGO Notebooks Files Directory to hold JSON backup files (for quick restoration of previous JSON values)\n",
    "WorkFolderPath = '/arcgis/home/BCGW_Updates'\n",
    "BackupPath = WorkFolderPath + \"/AGO_JSON_Backups\"\n",
    "# If folders don't exist, create them\n",
    "if not os.path.exists(WorkFolderPath):\n",
    "    os.mkdir(WorkFolderPath)\n",
    "    os.mkdir(BackupPath)"
   ]
  },
  {
   "cell_type": "markdown",
   "metadata": {
    "heading_collapsed": true,
    "hidden": true
   },
   "source": [
    "### 3. Load Functions"
   ]
  },
  {
   "cell_type": "code",
   "execution_count": 3,
   "metadata": {
    "hidden": true
   },
   "outputs": [],
   "source": [
    "# Set JSON values in nested dictionaries\n",
    "def Set_Nested_JSON_Value(dataDict, mapList, val_url, val_itemid):\n",
    "    # Set the JSON layer URL references to new value (from lookup table/GUI)\n",
    "    reduce(getitem, mapList[:-1], dataDict)[mapList[-1]] = val_url\n",
    "    # If new itemId value has been supplied\n",
    "    if val_itemid:\n",
    "        # Check if itemId is a key in the dictionary associated with the layer\n",
    "        if 'itemId' in reduce(getitem, mapList[:-1], dataDict):\n",
    "            # Set the JSON layer URL references to new value (from lookup table/GUI)\n",
    "            reduce(getitem, mapList[:-1], dataDict)['itemId'] = val_itemid\n",
    "    return dataDict\n",
    "\n",
    "# Search nested dictionaries for JSON values, store the \"path\" to get there and the value itself\n",
    "def Search_JSON(storage, haystack, needle, path=None):\n",
    "    storage = storage\n",
    "    if path is None:\n",
    "        path = []\n",
    "    if isinstance(haystack, dict):\n",
    "        if needle in haystack:\n",
    "            if haystack[needle]:\n",
    "                if \"mpcm/bcgwpub\" in haystack[needle] or \"mpcm/bcgw\" in haystack[needle]:\n",
    "                    path.append(needle)\n",
    "                    toappend = path,haystack[needle]\n",
    "                    storage.append(toappend)\n",
    "        for k, v in haystack.items():\n",
    "            Search_JSON(storage, v, needle, path + [k])\n",
    "    elif isinstance(haystack, list):\n",
    "        for idx, v in enumerate(haystack):\n",
    "            Search_JSON(storage, v, needle, path + [idx])\n",
    "            \n",
    "# Search the JSON for itemId, url, and baseURL keys and put the JSON 'path' and value in ReferenceList            \n",
    "def Check_JSON_ItemReferences(ItemID):\n",
    "    ReferenceList = []\n",
    "    item = gis.content.get(ItemID)\n",
    "    try:\n",
    "        item_data = item.get_data()\n",
    "        Search_JSON(ReferenceList,item_data,\"url\")\n",
    "    except:\n",
    "        pass\n",
    "    return ReferenceList\n",
    "        \n",
    "# Backup JSON data into text files on your harddrive (to be extra careful) you can use AGO assistant to \n",
    "# copy and paste them back into your AGO JSON if something goes wrong    \n",
    "def Create_JSON_BackupFile(ItemID):\n",
    "    item = gis.content.get(ItemID)\n",
    "    item_data = item.get_data()    \n",
    "    with open(BackupPath + \"/\" + ItemID + \"_Backup.json\", 'w') as outfile:\n",
    "        json.dump(item_data, outfile)\n",
    "\n",
    "# Restore item JSON from backup\n",
    "def restore_button_click(self):\n",
    "    bottom_box.children = ()\n",
    "    backupfile = BackupPath + \"/\" + SearchDict[itemSelection.value] + \"_Backup.json\"\n",
    "    if os.path.isfile(backupfile):\n",
    "        with open(backupfile) as json_file:\n",
    "            backupjson = json.load(json_file)\n",
    "            item = gis.content.get(SearchDict[itemSelection.value])\n",
    "            item.update(data=backupjson)\n",
    "            BackupPass_text = widgets.Label(value=\"JSON Data Restored from Backup Successfully\")\n",
    "            bottom_box.children += (BackupPass_text,)     \n",
    "    else:\n",
    "        BackupFail_text = widgets.Label(value=\"No Backup Found\")\n",
    "        bottom_box.children += (BackupFail_text,)  \n",
    "\n",
    "# Update AGO Item JSON based on GUI list\n",
    "def update_URL_references(self):\n",
    "    item = gis.content.get(SearchDict[itemSelection.value])\n",
    "    item_data = item.get_data()\n",
    "\n",
    "    Create_JSON_BackupFile(SearchDict[itemSelection.value])\n",
    "    UpdateList = Checkbutton.UpdateList\n",
    "    if UpdateList:\n",
    "        for i in range(1,len(bottom_box.children[1:-1])):\n",
    "            if bottom_box.children[i].children[1].value == UpdateList[i-1][1]:\n",
    "                if bottom_box.children[i].children[3].value:\n",
    "                    Set_Nested_JSON_Value(item_data,UpdateList[i-1][0],bottom_box.children[i].children[3].value, None)\n",
    "                else:\n",
    "                    Set_Nested_JSON_Value(item_data,UpdateList[i-1][0],bottom_box.children[i].children[2].value, UpdateList[i-1][2])          \n",
    "        try:      \n",
    "            item.update(data=item_data)\n",
    "            gif_list = [\"https://giphy.com/embed/ddHhhUBn25cuQ\",\"https://giphy.com/embed/kyLYXonQYYfwYDIeZl\",\"https://giphy.com/embed/gFi7V9CRBQVW0\",\"https://giphy.com/embed/l0MYt5jPR6QX5pnqM\",\n",
    "                        \"https://giphy.com/embed/YTbZzCkRQCEJa\",\"https://giphy.com/embed/s2qXK8wAvkHTO\",\"https://giphy.com/embed/35HTaxVJWzp2QOShct\",\"https://giphy.com/embed/8j3CTd8YJtAv6\"]\n",
    "            random_supportive_gif = widgets.HTML('<iframe src=\"' + random.choice(gif_list) + '\" width=\"280\" height=\"250\" frameBorder=\"0\" class=\"giphy-embed\" allowFullScreen></iframe>')\n",
    "            Update_text = widgets.Label(value= \"AGO Item Updated Successfully!\")\n",
    "            bottom_box.children = (Update_text,random_supportive_gif,) \n",
    "        except:\n",
    "            Update_text = widgets.Label(value= \"You Don't Have Permission to Update this Item\")\n",
    "            bottom_box.children = (Update_text,)  \n",
    "    else:\n",
    "        UpdateFail_text = widgets.Label(value= \"AGO Item Updated Failed\")\n",
    "        bottom_box.children += (UpdateFail_text,)\n",
    "\n",
    "# Create link to download the table of layers and url references to a csv file on your computer\n",
    "def create_download_link(title = \"Download as CSV file\"):\n",
    "    filename = gis.content.get(SearchDict[itemSelection.value]).title[:50] + \"_BCGW_URLUpdate.csv\"\n",
    "    datalist =[]\n",
    "    for row in bottom_box.children[1:]:\n",
    "        datalist.append([row.children[0].value,row.children[1].value,row.children[2].value,row.children[3].value])\n",
    "    df = pd.DataFrame(data = datalist, columns=['LAYERNAME','EXISTING_URL','SUGGESTED_URL','URL_OVERRIDE'])\n",
    "    csv = df.to_csv()\n",
    "    b64 = base64.b64encode(csv.encode())\n",
    "    payload = b64.decode()\n",
    "    html = '<a download=\"{filename}\" href=\"data:text/csv;base64,{payload}\" target=\"_blank\">{title}</a>'\n",
    "    html = html.format(payload=payload,title=title,filename=filename)\n",
    "    return html\n",
    "\n",
    "# Executes function which populates GUI list of layers and url references (only those with \"mpcm/bcgwpub\" and \"mpcm/bcgw\" referenced)\n",
    "def check_button_click(self):\n",
    "    bottom_box.children = ()\n",
    "    self.UpdateList = []\n",
    "    self.ReferenceList = Check_JSON_ItemReferences(SearchDict[itemSelection.value])\n",
    "    if self.ReferenceList:\n",
    "        text_layername = widgets.Label(value=\"Layer Name\")\n",
    "        text_layername.layout.width = \"20%\"   \n",
    "        text_existURL = widgets.Label(value=\"Existing URL Reference\")\n",
    "        text_existURL.layout.width = \"25%\"\n",
    "        text_newURL = widgets.Label(value=\"Suggested New URL Reference\")\n",
    "        text_newURL.layout.width = \"25%\"\n",
    "        text_overrideURL = widgets.Label(value=\"New URL Suggestion Override\")\n",
    "        text_overrideURL.layout.width = \"25%\" \n",
    "        RowNameLayout = widgets.HBox([text_layername,text_existURL,text_newURL,text_overrideURL],layout=widgets.Layout(width='100%',display='inline-flex',flex_flow='row wrap'))\n",
    "        bottom_box.children += (RowNameLayout,)\n",
    "        n = 1\n",
    "        for row in self.ReferenceList:\n",
    "            if row[1]:\n",
    "                oldpath = os.path.join(*os.path.normpath(row[1]).split(os.path.sep)[5:])\n",
    "                if oldpath in OldUrl_Dict:\n",
    "                    if isinstance(OldUrl_Dict[oldpath][0],float):\n",
    "                        value_layername = widgets.HTML(value= '<style>p{word-wrap: break-word}</style> <p>'+ \"\" +' </p>') \n",
    "                    else:\n",
    "                        value_layername = widgets.HTML(value= '<style>p{word-wrap: break-word}</style> <p>'+ OldUrl_Dict[oldpath][0] +' </p>') \n",
    "                        \n",
    "                    if isinstance(OldUrl_Dict[oldpath][1],float):\n",
    "                        value_newURL = widgets.Textarea(value=\"\",disabled=True)\n",
    "                    else:\n",
    "                        if OldUrl_Dict[oldpath][1] and not isinstance(OldUrl_Dict[oldpath][1],float):\n",
    "                            if \"https://services6.arcgis.com/\" not in OldUrl_Dict[oldpath][1]:\n",
    "                                if \"arcserver\" in row[1] and \"arcserver\" in OldUrl_Dict[oldpath][1]: \n",
    "                                    value_newURL = widgets.Textarea(value=OldUrl_Dict[oldpath][1],disabled=True)\n",
    "                                elif \"arcserver\" in row[1] and \"arcserver\" not in OldUrl_Dict[oldpath][1]:\n",
    "                                    value_newURL = widgets.Textarea(value=OldUrl_Dict[oldpath][1].replace(\"arcgis\",\"arcserver\"),disabled=True)\n",
    "                                elif \"arcgis\" in row[1] and \"arcgis\" in OldUrl_Dict[oldpath][1]: \n",
    "                                    value_newURL = widgets.Textarea(value=OldUrl_Dict[oldpath][1],disabled=True)\n",
    "                                elif \"arcgis\" in row[1] and \"arcgis\" not in OldUrl_Dict[oldpath][1]:\n",
    "                                    value_newURL = widgets.Textarea(value=OldUrl_Dict[oldpath][1].replace(\"arcserver\",\"arcgis\"),disabled=True)\n",
    "                            else:\n",
    "                                value_newURL = widgets.Textarea(value=OldUrl_Dict[oldpath][1],disabled=True)\n",
    "                        else:\n",
    "                            value_newURL = widgets.Textarea(value=\"\",disabled=True)\n",
    "                else:\n",
    "                    if \"dynamicLayer?layer\" in row[1]:\n",
    "                        layername = row[1][row[1].find(\"dataSourceName\")+len(\"dataSourceName\")+6:row[1].find(\"dataSourceName\")+len(\"dataSourceName\")+6+row[1][row[1].find(\"dataSourceName\")+len(\"dataSourceName\")+6:].find('\",%20\"')]\n",
    "                        if layername in WHSE_Dict:\n",
    "                            OldUrl_Dict[layername] = WHSE_Dict[layername]\n",
    "                            value_layername = widgets.Textarea(value=layername,disabled=True)\n",
    "                            value_newURL = widgets.Textarea(value=WHSE_Dict[layername][1],disabled=True) \n",
    "                        else:\n",
    "                            value_layername = widgets.Textarea(value=layername,disabled=True)\n",
    "                            value_newURL = widgets.Textarea(value=\"\",disabled=True) \n",
    "                    else:\n",
    "                        value_layername = widgets.Textarea(value=\"\",disabled=True)\n",
    "                        value_newURL = widgets.Textarea(value=\"\",disabled=True)     \n",
    "                    \n",
    "                value_layername.layout = widgets.Layout(height='100%', width='15%',display='inline-flex',flex_flow='row wrap')\n",
    "                value_existURL = widgets.Textarea(value=row[1],disabled=True)\n",
    "                value_existURL.layout = widgets.Layout(width='25%',display='inline-flex',flex_flow='row wrap')\n",
    "                value_newURL.layout = widgets.Layout(width='25%',display='inline-flex',flex_flow='row wrap')  \n",
    "                value_override = widgets.Textarea(value=None)\n",
    "                value_override.layout = widgets.Layout(width='25%',display='inline-flex',flex_flow='row wrap')\n",
    "                \n",
    "                if (n % 2) == 0:\n",
    "                    boxcolor = 'black'\n",
    "                else:\n",
    "                    boxcolor = 'blue'\n",
    "                \n",
    "                RowLayout = widgets.HBox([value_layername,value_existURL,value_newURL,value_override],layout=widgets.Layout(width='100%',display='inline-flex',flex_flow='row wrap',border='1px solid ' + boxcolor))\n",
    "                bottom_box.children += (RowLayout,)\n",
    "                if \"dynamicLayer?layer\" in row[1]:\n",
    "                    toappend = row[0],row[1],\"\"\n",
    "                else:\n",
    "                    toappend = row[0],row[1],OldUrl_Dict[oldpath][2]\n",
    "\n",
    "                self.UpdateList.append(toappend)\n",
    "                n = n + 1\n",
    "                \n",
    "        UpdateAllButton = widgets.Button(description='Update All URLs')\n",
    "        UpdateAllButton.on_click(update_URL_references)\n",
    "        link = widgets.HTML(value=create_download_link())\n",
    "        bottom_box.children += (UpdateAllButton,link,)\n",
    "        \n",
    "    if not self.UpdateList:\n",
    "        NoUpdate_text = widgets.Label(value=\"No Updates Needed/Found\")\n",
    "        bottom_box.children = (NoUpdate_text,)\n",
    "        \n",
    "def group_content_selection_change(self):\n",
    "    if groupSelection.value:\n",
    "        groupid = GroupSearchDict[groupSelection.value]\n",
    "        group = gis.groups.get(groupid)\n",
    "\n",
    "        itemtypes_list = [\"Web Map\",\"Web Mapping Application\",\"StoryMap\",\"Dashboard\"]\n",
    "        new_item_list = []\n",
    "        for item in group.content():\n",
    "            if item.type in itemtypes_list:\n",
    "                new_item_list.append([item.title,item.id])\n",
    "        sorteditem_list = sorted(new_item_list,key = lambda x:x[0])\n",
    "\n",
    "        global SearchDict\n",
    "        SearchDict = {}\n",
    "        for row in sorteditem_list:\n",
    "            SearchDisplay = row[0] + \" | \" + gis.content.get(row[1]).type\n",
    "            SearchDict[SearchDisplay] = row[1]\n",
    "        itemSelection.options = sorted(SearchDict.keys())\n",
    "\n",
    "def own_content_selection(self):\n",
    "    itemtypes_list = [\"Web Map\",\"Web Mapping Application\",\"StoryMap\",\"Dashboard\"]\n",
    "    new_item_list = []\n",
    "    for item in gis.content.search(query=\"* AND \\  owner:\" + gis.users.me.username, max_items=AGO_Max_Items):\n",
    "        if item.type in itemtypes_list:\n",
    "            new_item_list.append([item.title,item.id])\n",
    "    sorteditem_list = sorted(new_item_list,key = lambda x:x[0])\n",
    "    \n",
    "    global SearchDict\n",
    "    SearchDict = {}\n",
    "    for row in sorteditem_list:\n",
    "        SearchDisplay = row[0] + \" | \" + gis.content.get(row[1]).type\n",
    "        SearchDict[SearchDisplay] = row[1]\n",
    "    itemSelection.options = sorted(SearchDict.keys())\n",
    "    groupSelection.value = None\n",
    "    \n",
    "# Watches selection list for change in selection and updates the other GUIs in response\n",
    "def on_selection_change(self):\n",
    "    if SearchDict:\n",
    "        bottom_box.children = ()\n",
    "        title_text.value = \"Title: \" + gis.content.get(SearchDict[itemSelection.value]).title\n",
    "        type_text.value = \"Type: \" + gis.content.get(SearchDict[itemSelection.value]).type\n",
    "        owner_text.value = \"Owner: \" + gis.content.get(SearchDict[itemSelection.value]).owner\n",
    "        created_text.value = \"Created: \" + str(time.strftime('%Y-%m-%d %H:%M', time.localtime(gis.content.get(SearchDict[itemSelection.value]).created/1000)))\n",
    "        modified_text.value = \"Modified: \" + str(time.strftime('%Y-%m-%d %H:%M', time.localtime(gis.content.get(SearchDict[itemSelection.value]).modified/1000)))\n",
    "        itemurl_text.value = '<a target=\"_blank\" rel=\"noopener noreferrer\" href=' + gis.url + \"/home/item.html?id=\" + SearchDict[itemSelection.value] + '>Go to Item Page</a>'\n",
    "\n",
    "        if gis.content.get(SearchDict[itemSelection.value]).type == \"Web Map\":\n",
    "            url_text.value = '<a target=\"_blank\" rel=\"noopener noreferrer\" href=' + \"https://bcgov03.maps.arcgis.com/home/webmap/viewer.html?webmap=\" + SearchDict[itemSelection.value] + '>Open Item in Viewer</a>'\n",
    "        elif gis.content.get(SearchDict[itemSelection.value]).type == \"Story Map\":\n",
    "            url_text.value = '<a target=\"_blank\" rel=\"noopener noreferrer\" href=' + \"https://storymaps.arcgis.com/stories/\" + SearchDict[itemSelection.value] + '>Open Item in Viewer</a>'\n",
    "        elif gis.content.get(SearchDict[itemSelection.value]).type == \"Web Mapping Application\":\n",
    "            url_text.value = '<a target=\"_blank\" rel=\"noopener noreferrer\" href=' + \"https://bcgov03.maps.arcgis.com/apps/webappviewer/index.html?id=\" + SearchDict[itemSelection.value] + '>Open Item in Viewer</a>'\n",
    "        elif gis.content.get(SearchDict[itemSelection.value]).type == \"Dashboard\":\n",
    "            url_text.value = '<a target=\"_blank\" rel=\"noopener noreferrer\" href=' + \"https://bcgov03.maps.arcgis.com/apps/dashboards/\" + SearchDict[itemSelection.value] + '>Open Item in Viewer</a>' \n",
    "\n",
    "        if gis.content.get(SearchDict[itemSelection.value]).get_thumbnail():\n",
    "            thumb_image.visibility = 'visible'\n",
    "            thumb_image.value = gis.content.get(SearchDict[itemSelection.value]).get_thumbnail()\n",
    "        else:\n",
    "            thumb_image.visibility = 'hidden'\n",
    "    else:\n",
    "        bottom_box.children = ()\n",
    "        title_text.value = \"Title: \"\n",
    "        type_text.value = \"Type: \"\n",
    "        owner_text.value = \"Owner: \"\n",
    "        created_text.value = \"Created: \"\n",
    "        modified_text.value = \"Modified: \"\n",
    "        itemurl_text.value = None\n",
    "        url_text.value = None\n",
    "        thumb_image.value = None\n",
    "        thumb_image.visibility = 'hidden'"
   ]
  },
  {
   "cell_type": "markdown",
   "metadata": {
    "heading_collapsed": true,
    "hidden": true
   },
   "source": [
    "### 4. Build Dictionaries for Old/Deprecated URLs and Old/Deprecated ItemIDs Lookup"
   ]
  },
  {
   "cell_type": "code",
   "execution_count": 4,
   "metadata": {
    "hidden": true
   },
   "outputs": [],
   "source": [
    "# Read csv file from GITHub using pandas\n",
    "url = 'https://raw.githubusercontent.com/MichaelDykesBC/AGO/master/lookup_maxl_to_minimap.csv'\n",
    "df = pd.read_csv(url,index_col=0,encoding='cp1252')\n",
    "\n",
    "# Empty Dictionaries to hold data\n",
    "WHSE_Dict = {}\n",
    "OldUrl_Dict = {}\n",
    "\n",
    "# Iterate through CSV lookup table\n",
    "for index, row in df.iterrows():\n",
    "    if isinstance(row[4], str):\n",
    "        OldServiceURL = os.path.join(*os.path.normpath(row[4]).split(os.path.sep)[5:])\n",
    "        AGOTitle = row[6]\n",
    "        if isinstance(row[8], str):\n",
    "            AGOServiceURL = row[8]\n",
    "            AGOItemID = row[1]\n",
    "            WHSE_Name = row[7]\n",
    "        elif isinstance(row[11], str):\n",
    "            AGOServiceURL = row[11]\n",
    "            AGOItemID = row[9]\n",
    "            WHSE_Name = row[7]\n",
    "        else:\n",
    "            AGOServiceURL = None \n",
    "            AGOItemID = None\n",
    "            WHSE_Name = row[7]\n",
    "        \n",
    "        WHSE_Dict[WHSE_Name] = [AGOTitle,AGOServiceURL,AGOItemID]\n",
    "        OldUrl_Dict[OldServiceURL] = [AGOTitle,AGOServiceURL,AGOItemID]"
   ]
  },
  {
   "cell_type": "markdown",
   "metadata": {
    "heading_collapsed": true,
    "hidden": true
   },
   "source": [
    "### 5. Build Application/GUI"
   ]
  },
  {
   "cell_type": "code",
   "execution_count": 5,
   "metadata": {
    "hidden": true
   },
   "outputs": [],
   "source": [
    "# Search AGO Groups\n",
    "itemtypes_list = [\"Web Map\",\"Web Mapping Application\",\"StoryMap\",\"Dashboard\"]\n",
    "\n",
    "groups_list = []\n",
    "groups = gis.groups.search(query = '*')\n",
    "for group in groups:\n",
    "    num_items = 0\n",
    "    for content in group.content():\n",
    "        if content.type in itemtypes_list:\n",
    "            num_items += 1\n",
    "    \n",
    "    if num_items > 0:\n",
    "        groups_list.append([group.title,group.id])\n",
    "\n",
    "# Create dictionary for selection window group title + group id to access groups based on selection\n",
    "GroupSearchDict = {}\n",
    "for row in groups_list:\n",
    "    GroupSearchDict[row[0]] = row[1]                           \n",
    "        \n",
    "# Search through AGO for content owned by whomever is running this Notebook (max 5000 items) and put them in a list object\n",
    "item_list = []\n",
    "\n",
    "for item in gis.content.search(query=\"* AND \\  owner:\" + gis.users.me.username, max_items=AGO_Max_Items):\n",
    "    if item.type in itemtypes_list:\n",
    "        item_list.append([item.title,item.id])\n",
    "\n",
    "# Sort list object of AGO items alphabetically by title\n",
    "sorteditem_list = sorted(item_list,key = lambda x:x[0])\n",
    "\n",
    "# Create dictionary for selection window title + itemID to access items based on selection\n",
    "SearchDict = {}\n",
    "for row in sorteditem_list:\n",
    "    SearchDisplay = row[0] + \" | \" + gis.content.get(row[1]).type\n",
    "    SearchDict[SearchDisplay] = row[1]\n",
    "\n",
    "# GUI building below\n",
    "groupSelection = widgets.Dropdown(options=GroupSearchDict.keys(),value=None,description='Group:')\n",
    "groupSelection.layout.width = \"500px\"\n",
    "groupSelection.observe(group_content_selection_change,names='value') \n",
    "\n",
    "ownSelection = widgets.Button(description='All My Content')\n",
    "ownSelection.on_click(own_content_selection)\n",
    "\n",
    "itemSelection = widgets.Select(options=sorted(SearchDict.keys()),disabled=False)\n",
    "itemSelection.layout.height = \"350px\"\n",
    "itemSelection.layout.width = \"700px\" \n",
    "thumb_image = widgets.Image(value=gis.content.get(sorteditem_list[0][1]).get_thumbnail(),format=\"png\",width=300,height=400)\n",
    "title_text = widgets.Label(value=\"Title: \" + sorteditem_list[0][0])\n",
    "type_text = widgets.Label(value=\"Type: \" + gis.content.get(sorteditem_list[0][1]).type) \n",
    "owner_text = widgets.Label(value=\"Owner: \" + gis.content.get(sorteditem_list[0][1]).owner) \n",
    "created_text = widgets.Label(value=\"Created: \" + str(time.strftime('%Y-%m-%d %H:%M', time.localtime(gis.content.get(sorteditem_list[0][1]).created/1000))))\n",
    "modified_text = widgets.Label(value=\"Modified: \" + str(time.strftime('%Y-%m-%d %H:%M', time.localtime(gis.content.get(sorteditem_list[0][1]).modified/1000))))\n",
    "itemurl_text = widgets.HTML(value='<a target=\"_blank\" rel=\"noopener noreferrer\" href=' + gis.url + \"/home/item.html?id=\" + SearchDict[itemSelection.value] + '>Go to Item Page</a>')\n",
    "\n",
    "if gis.content.get(sorteditem_list[0][1]).type == \"Web Map\":\n",
    "    url_text = widgets.HTML(value='<a target=\"_blank\" rel=\"noopener noreferrer\" href=' + \"https://bcgov03.maps.arcgis.com/home/webmap/viewer.html?webmap=\" + SearchDict[itemSelection.value] + '>Open Item in Viewer</a>')\n",
    "elif gis.content.get(sorteditem_list[0][1]).type == \"Story Map\":\n",
    "    url_text = widgets.HTML(value='<a target=\"_blank\" rel=\"noopener noreferrer\" href=' + \"https://storymaps.arcgis.com/stories/\" + SearchDict[itemSelection.value] + '>Open Item in Viewer</a>')\n",
    "elif gis.content.get(sorteditem_list[0][1]).type == \"Web Mapping Application\":\n",
    "    url_text = widgets.HTML(value='<a target=\"_blank\" rel=\"noopener noreferrer\" href=' + \"https://bcgov03.maps.arcgis.com/apps/webappviewer/index.html?id=\" + SearchDict[itemSelection.value] + '>Open Item in Viewer</a>')\n",
    "elif gis.content.get(sorteditem_list[0][1]).type == \"Dashboard\":\n",
    "    url_text = widgets.HTML(value='<a target=\"_blank\" rel=\"noopener noreferrer\" href=' + \"https://bcgov03.maps.arcgis.com/apps/dashboards/\" + SearchDict[itemSelection.value] + '>Open Item in Viewer</a>')\n",
    "      \n",
    "itemSelection.observe(on_selection_change,names='value')  \n",
    "Checkbutton = widgets.Button(description='Check Item')\n",
    "Checkbutton.on_click(check_button_click)\n",
    "\n",
    "Restorebutton = widgets.Button(description='Restore Item JSON')\n",
    "Restorebutton.on_click(restore_button_click)\n",
    "\n",
    "content_box = widgets.HBox([groupSelection,ownSelection])\n",
    "info_box = widgets.VBox([title_text,type_text,owner_text,created_text,modified_text,itemurl_text,url_text])\n",
    "top_box = widgets.HBox([thumb_image,info_box])\n",
    "buttons_box = widgets.HBox([Checkbutton,Restorebutton])\n",
    "bottom_box = widgets.VBox()\n",
    "widgetlist = [content_box,itemSelection,top_box,buttons_box,bottom_box]\n",
    "itemGUI = widgets.VBox(widgetlist)"
   ]
  },
  {
   "cell_type": "markdown",
   "metadata": {
    "heading_collapsed": true
   },
   "source": [
    "## BCGW Service URL Updating Application"
   ]
  },
  {
   "cell_type": "code",
   "execution_count": 6,
   "metadata": {
    "hidden": true
   },
   "outputs": [
    {
     "data": {
      "application/vnd.jupyter.widget-view+json": {
       "model_id": "1c54943d14f24413ae191d8476f209fe",
       "version_major": 2,
       "version_minor": 0
      },
      "text/plain": [
       "VBox(children=(HBox(children=(Dropdown(description='Group:', layout=Layout(width='500px'), options=('3D Flood …"
      ]
     },
     "metadata": {},
     "output_type": "display_data"
    }
   ],
   "source": [
    "display(itemGUI)"
   ]
  }
 ],
 "metadata": {
  "esriNotebookRuntime": {
   "notebookRuntimeName": "ArcGIS Notebook Python 3 Standard",
   "notebookRuntimeVersion": "5.0"
  },
  "kernelspec": {
   "display_name": "Python 3",
   "language": "python",
   "name": "python3"
  },
  "language_info": {
   "codemirror_mode": {
    "name": "ipython",
    "version": 3
   },
   "file_extension": ".py",
   "mimetype": "text/x-python",
   "name": "python",
   "nbconvert_exporter": "python",
   "pygments_lexer": "ipython3",
   "version": "3.7.9"
  }
 },
 "nbformat": 4,
 "nbformat_minor": 2
}
